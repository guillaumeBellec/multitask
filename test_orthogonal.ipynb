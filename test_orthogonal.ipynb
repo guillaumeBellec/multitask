{
 "cells": [
  {
   "cell_type": "code",
   "execution_count": 7,
   "metadata": {
    "collapsed": true,
    "pycharm": {
     "name": "#%%\n"
    }
   },
   "outputs": [],
   "source": [
    "import numpy as np\n",
    "import torch\n",
    "import matplotlib.pyplot as plt"
   ]
  },
  {
   "cell_type": "code",
   "execution_count": 48,
   "outputs": [],
   "source": [
    "def normalize(b, epsilon=1e-16):\n",
    "    u = b / torch.sqrt((b * b).sum(1, keepdim=True)).clip(min=epsilon)\n",
    "    return u\n",
    "\n",
    "def truncated_proj_a_on_b(a,b, epsilon=1e-16):\n",
    "    u = normalize(b, epsilon)\n",
    "    prob_a_on_b = - torch.relu(- (a * u).sum(1, keepdim=True)) * u\n",
    "    #a_proj_on_b = -torch.relu(- (a * u).sum(1, keepdim=True)) * u\n",
    "    return a - prob_a_on_b\n"
   ],
   "metadata": {
    "collapsed": false,
    "pycharm": {
     "name": "#%%\n"
    }
   }
  },
  {
   "cell_type": "code",
   "execution_count": 104,
   "outputs": [
    {
     "data": {
      "text/plain": "(-0.5890947471280372,\n 0.45956748350448356,\n -0.04556142971249515,\n 0.956790023962398)"
     },
     "execution_count": 104,
     "metadata": {},
     "output_type": "execute_result"
    },
    {
     "data": {
      "text/plain": "<Figure size 432x288 with 1 Axes>",
      "image/png": "[encoded data removed]"
     },
     "metadata": {
      "needs_background": "light"
     },
     "output_type": "display_data"
    }
   ],
   "source": [
    "a = torch.tensor(np.random.randn(2)).unsqueeze(0)\n",
    "b = torch.tensor(np.random.randn(2)).unsqueeze(0)\n",
    "\n",
    "a = normalize(a)\n",
    "b = normalize(b)\n",
    "c = truncated_proj_a_on_b(a,b)\n",
    "\n",
    "R = np.array([[0, -1], [1.,0]])\n",
    "R = torch.tensor(R)\n",
    "\n",
    "def plot_vector(vector, color):\n",
    "    v = vector.squeeze(0).detach().cpu().numpy()\n",
    "    plt.plot([0, v[0]], [0,v[1]], color=color)\n",
    "\n",
    "plot_vector(a, \"red\")\n",
    "plot_vector(b, \"green\")\n",
    "plot_vector(c, \"orange\")\n",
    "\n",
    "plt.axis('equal')\n"
   ],
   "metadata": {
    "collapsed": false,
    "pycharm": {
     "name": "#%%\n"
    }
   }
  }
 ],
 "metadata": {
  "kernelspec": {
   "display_name": "Python 3",
   "language": "python",
   "name": "python3"
  },
  "language_info": {
   "codemirror_mode": {
    "name": "ipython",
    "version": 2
   },
   "file_extension": ".py",
   "mimetype": "text/x-python",
   "name": "python",
   "nbconvert_exporter": "python",
   "pygments_lexer": "ipython2",
   "version": "2.7.6"
  }
 },
 "nbformat": 4,
 "nbformat_minor": 0
}